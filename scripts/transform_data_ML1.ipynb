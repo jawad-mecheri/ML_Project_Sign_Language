{
  "nbformat": 4,
  "nbformat_minor": 0,
  "metadata": {
    "colab": {
      "provenance": [],
      "gpuType": "A100"
    },
    "kernelspec": {
      "name": "python3",
      "display_name": "Python 3"
    },
    "language_info": {
      "name": "python"
    },
    "accelerator": "GPU"
  },
  "cells": [
    {
      "cell_type": "code",
      "source": [
        "import os\n",
        "import zipfile\n",
        "import numpy as np\n",
        "import pandas as pd\n",
        "import matplotlib.pyplot as plt\n",
        "import cv2\n",
        "from google.colab import drive\n",
        "from tensorflow.keras.preprocessing.image import ImageDataGenerator\n",
        "from tensorflow.keras.applications import ResNet50\n",
        "from tensorflow.keras.applications.resnet import preprocess_input\n",
        "from sklearn.preprocessing import StandardScaler\n",
        "from sklearn.decomposition import PCA\n",
        "import pickle\n"
      ],
      "metadata": {
        "id": "EQMdBo8crQKl"
      },
      "execution_count": null,
      "outputs": []
    },
    {
      "cell_type": "code",
      "execution_count": null,
      "metadata": {
        "colab": {
          "base_uri": "https://localhost:8080/"
        },
        "id": "EJ3wrMntpUBv",
        "outputId": "564d5b32-edff-4225-d512-13465e56032b"
      },
      "outputs": [
        {
          "output_type": "stream",
          "name": "stdout",
          "text": [
            "Mounted at /content/drive\n",
            "Données décompressées dans : /content/asl_alphabet\n"
          ]
        }
      ],
      "source": [
        "# Monter Google Drive\n",
        "drive.mount('/content/drive')\n",
        "\n",
        "# Chemin du fichier zip\n",
        "zip_path = '/content/drive/MyDrive/asl_alphabet.zip'\n",
        "\n",
        "# Décompression\n",
        "output_path = '/content/asl_alphabet'\n",
        "with zipfile.ZipFile(zip_path, 'r') as zip_ref:\n",
        "    zip_ref.extractall(output_path)\n",
        "\n",
        "print(\"Données décompressées dans :\", output_path)\n"
      ]
    },
    {
      "cell_type": "code",
      "source": [
        "\n",
        "# Définir les chemins des répertoires d'entraînement et de test\n",
        "train_dir = os.path.join(output_path, 'asl_alphabet_train', 'asl_alphabet_train')\n",
        "test_dir = os.path.join(output_path, 'asl_alphabet_test', 'asl_alphabet_test')\n",
        "\n",
        "# Vérifier la structure des dossiers d'entraînement\n",
        "print(\"Classes d'entraînement :\", os.listdir(train_dir))\n",
        "\n",
        "# Vérifier la structure des dossiers de test\n",
        "print(\"Exemples de fichiers de test :\", os.listdir(test_dir)[:5])\n"
      ],
      "metadata": {
        "colab": {
          "base_uri": "https://localhost:8080/"
        },
        "id": "qe3suPFIpyHZ",
        "outputId": "baa8a6d3-6e21-4860-bdfb-ab8c5abb8613"
      },
      "execution_count": null,
      "outputs": [
        {
          "output_type": "stream",
          "name": "stdout",
          "text": [
            "Classes d'entraînement : ['W', 'K', 'B', 'M', 'R', 'I', 'G', 'P', 'O', 'Z', 'U', 'A', 'nothing', 'V', 'del', 'Y', 'L', 'X', 'space', 'F', 'J', 'C', 'H', 'Q', 'T', 'D', 'E', 'S', 'N']\n",
            "Exemples de fichiers de test : ['J_test.jpg', 'M_test.jpg', 'H_test.jpg', 'K_test.jpg', 'Y_test.jpg']\n"
          ]
        }
      ]
    },
    {
      "cell_type": "code",
      "source": [
        "# Création d'un générateur d'images pour l'entraînement avec normalisation\n",
        "train_datagen = ImageDataGenerator(\n",
        "    preprocessing_function=preprocess_input,\n",
        "    validation_split=0.2  # Réserver 20% des données pour la validation\n",
        ")\n",
        "\n",
        "# Générateur pour l'ensemble d'entraînement\n",
        "train_generator = train_datagen.flow_from_directory(\n",
        "    train_dir,\n",
        "    target_size=(64, 64),     # Redimensionnement des images\n",
        "    batch_size=32,\n",
        "    class_mode='categorical',\n",
        "    subset='training',\n",
        "    shuffle=False\n",
        ")\n",
        "\n",
        "# Générateur pour l'ensemble de validation\n",
        "validation_generator = train_datagen.flow_from_directory(\n",
        "    train_dir,\n",
        "    target_size=(64, 64),\n",
        "    batch_size=32,\n",
        "    class_mode='categorical',\n",
        "    subset='validation',\n",
        "    shuffle=False\n",
        ")\n"
      ],
      "metadata": {
        "colab": {
          "base_uri": "https://localhost:8080/"
        },
        "id": "4iZwH7PWp1_o",
        "outputId": "b51de33b-7232-42af-c6a7-363045a5dc33"
      },
      "execution_count": null,
      "outputs": [
        {
          "output_type": "stream",
          "name": "stdout",
          "text": [
            "Found 69600 images belonging to 29 classes.\n",
            "Found 17400 images belonging to 29 classes.\n"
          ]
        }
      ]
    },
    {
      "cell_type": "code",
      "source": [
        "def generator_to_numpy(generator):\n",
        "    \"\"\"\n",
        "    Convertit un générateur d'images en tableaux NumPy.\n",
        "    \"\"\"\n",
        "    steps = np.ceil(generator.samples / generator.batch_size)\n",
        "    images = []\n",
        "    labels = []\n",
        "    for _ in range(int(steps)):\n",
        "        batch_images, batch_labels = next(generator)\n",
        "        images.append(batch_images)\n",
        "        labels.append(batch_labels)\n",
        "    images = np.vstack(images)\n",
        "    labels = np.vstack(labels)\n",
        "    return images, labels\n",
        "\n",
        "# Convertir les données d'entraînement et de validation\n",
        "train_images, train_labels = generator_to_numpy(train_generator)\n",
        "val_images, val_labels = generator_to_numpy(validation_generator)\n",
        "\n",
        "print(\"Données d'entraînement :\", train_images.shape, train_labels.shape)\n",
        "print(\"Données de validation :\", val_images.shape, val_labels.shape)\n"
      ],
      "metadata": {
        "colab": {
          "base_uri": "https://localhost:8080/"
        },
        "id": "Q5176sInp-St",
        "outputId": "7c438300-0403-42b8-b1bd-3ddf4e7d0d41"
      },
      "execution_count": null,
      "outputs": [
        {
          "output_type": "stream",
          "name": "stdout",
          "text": [
            "Données d'entraînement : (69600, 64, 64, 3) (69600, 29)\n",
            "Données de validation : (17400, 64, 64, 3) (17400, 29)\n"
          ]
        }
      ]
    },
    {
      "cell_type": "code",
      "source": [
        "# **Étape 7 : Chargement et prétraitement des données de test**\n",
        "\n",
        "# Liste des fichiers de test\n",
        "test_files = os.listdir(test_dir)\n",
        "\n",
        "test_images = []\n",
        "test_labels = []\n",
        "classes = sorted(os.listdir(train_dir))  # Assurer l'ordre des classes\n",
        "\n",
        "# Création d'un dictionnaire pour mapper les classes à des indices\n",
        "class_to_index = {cls_name: idx for idx, cls_name in enumerate(classes)}\n",
        "\n",
        "for file_name in test_files:\n",
        "    # Extraire la classe à partir du nom du fichier (ex : A_test.jpg -> A)\n",
        "    cls = file_name.split('_')[0]\n",
        "    label = class_to_index.get(cls, -1)  # -1 si la classe n'est pas trouvée\n",
        "    if label == -1:\n",
        "        continue  # Ignorer les fichiers avec des classes inconnues\n",
        "\n",
        "    test_labels.append(label)\n",
        "\n",
        "    # Charger l'image\n",
        "    img_path = os.path.join(test_dir, file_name)\n",
        "    img = cv2.imread(img_path)\n",
        "    if img is None:\n",
        "        continue  # Ignorer les fichiers qui ne sont pas des images valides\n",
        "    img = cv2.cvtColor(img, cv2.COLOR_BGR2RGB)  # Convertir en RGB\n",
        "    img = cv2.resize(img, (64, 64))  # Redimensionnement\n",
        "    img = preprocess_input(img)  # Appliquer la même prétraitement que pour l'entraînement\n",
        "    test_images.append(img)\n",
        "\n",
        "# Convertir en tableaux NumPy\n",
        "test_images = np.array(test_images)\n",
        "test_labels = np.array(test_labels)\n",
        "\n",
        "print(\"Données de test :\", test_images.shape, test_labels.shape)"
      ],
      "metadata": {
        "colab": {
          "base_uri": "https://localhost:8080/"
        },
        "id": "K4UfXrmDqOKl",
        "outputId": "9586563d-64c3-4094-a409-5c7d3d0496e9"
      },
      "execution_count": null,
      "outputs": [
        {
          "output_type": "stream",
          "name": "stdout",
          "text": [
            "Données de test : (28, 64, 64, 3) (28,)\n"
          ]
        }
      ]
    },
    {
      "cell_type": "code",
      "source": [
        "# **Étape 8 : Extraction des caractéristiques avec ResNet50**\n",
        "\n",
        "# Initialiser le modèle ResNet50 sans la couche de classification finale\n",
        "base_model = ResNet50(weights='imagenet', include_top=False, pooling='avg')\n",
        "\n",
        "# Extraire les caractéristiques pour les ensembles d'entraînement, de validation et de test\n",
        "train_features = base_model.predict(train_images, batch_size=32, verbose=1)\n",
        "val_features = base_model.predict(val_images, batch_size=32, verbose=1)\n",
        "test_features = base_model.predict(test_images, batch_size=32, verbose=1)\n",
        "\n",
        "print(\"Caractéristiques d'entraînement :\", train_features.shape)\n",
        "print(\"Caractéristiques de validation :\", val_features.shape)\n",
        "print(\"Caractéristiques de test :\", test_features.shape)\n"
      ],
      "metadata": {
        "colab": {
          "base_uri": "https://localhost:8080/"
        },
        "id": "ZBkpxm1JsRKB",
        "outputId": "66f19901-3d86-4d95-f776-00c57903709b"
      },
      "execution_count": null,
      "outputs": [
        {
          "output_type": "stream",
          "name": "stdout",
          "text": [
            "Downloading data from https://storage.googleapis.com/tensorflow/keras-applications/resnet/resnet50_weights_tf_dim_ordering_tf_kernels_notop.h5\n",
            "\u001b[1m94765736/94765736\u001b[0m \u001b[32m━━━━━━━━━━━━━━━━━━━━\u001b[0m\u001b[37m\u001b[0m \u001b[1m5s\u001b[0m 0us/step\n",
            "\u001b[1m2175/2175\u001b[0m \u001b[32m━━━━━━━━━━━━━━━━━━━━\u001b[0m\u001b[37m\u001b[0m \u001b[1m15s\u001b[0m 5ms/step\n",
            "\u001b[1m544/544\u001b[0m \u001b[32m━━━━━━━━━━━━━━━━━━━━\u001b[0m\u001b[37m\u001b[0m \u001b[1m6s\u001b[0m 12ms/step\n",
            "\u001b[1m1/1\u001b[0m \u001b[32m━━━━━━━━━━━━━━━━━━━━\u001b[0m\u001b[37m\u001b[0m \u001b[1m2s\u001b[0m 2s/step\n",
            "Caractéristiques d'entraînement : (69600, 2048)\n",
            "Caractéristiques de validation : (17400, 2048)\n",
            "Caractéristiques de test : (28, 2048)\n"
          ]
        }
      ]
    },
    {
      "cell_type": "code",
      "source": [
        "# **Étape 9 : Normalisation des caractéristiques**\n",
        "\n",
        "# Initialiser le scaler\n",
        "scaler = StandardScaler()\n",
        "\n",
        "# Ajuster le scaler sur les données d'entraînement et transformer\n",
        "train_features_scaled = scaler.fit_transform(train_features)\n",
        "val_features_scaled = scaler.transform(val_features)\n",
        "test_features_scaled = scaler.transform(test_features)\n",
        "\n",
        "print(\"Caractéristiques normalisées.\")"
      ],
      "metadata": {
        "colab": {
          "base_uri": "https://localhost:8080/"
        },
        "id": "Il6BEv6RtTKz",
        "outputId": "6a503a2a-8f6f-4d15-ce38-2d58168197a9"
      },
      "execution_count": null,
      "outputs": [
        {
          "output_type": "stream",
          "name": "stdout",
          "text": [
            "Caractéristiques normalisées.\n"
          ]
        }
      ]
    },
    {
      "cell_type": "code",
      "source": [
        "# **Étape 10 : Réduction de dimensionnalité avec PCA (optionnel)**\n",
        "\n",
        "# Initialiser PCA avec le nombre de composantes souhaité\n",
        "pca = PCA(n_components=100, random_state=42)  # Ajustez n_components selon vos besoins\n",
        "\n",
        "# Ajuster PCA sur les données d'entraînement et transformer\n",
        "train_features_pca = pca.fit_transform(train_features_scaled)\n",
        "val_features_pca = pca.transform(val_features_scaled)\n",
        "test_features_pca = pca.transform(test_features_scaled)\n",
        "\n",
        "print(\"Réduction de dimensionnalité avec PCA terminée.\")\n",
        "print(\"Nouvelles dimensions :\", train_features_pca.shape)"
      ],
      "metadata": {
        "colab": {
          "base_uri": "https://localhost:8080/"
        },
        "id": "5EncxPyMtVf3",
        "outputId": "1c4d93e4-f9d7-4f9e-c98d-c77d92ae562a"
      },
      "execution_count": null,
      "outputs": [
        {
          "output_type": "stream",
          "name": "stdout",
          "text": [
            "Réduction de dimensionnalité avec PCA terminée.\n",
            "Nouvelles dimensions : (69600, 100)\n"
          ]
        }
      ]
    },
    {
      "cell_type": "code",
      "source": [
        "# **Étape 11 : Préparer le DataFrame pour ref_data.csv**\n",
        "\n",
        "# Créer un DataFrame pour les données d'entraînement\n",
        "df_train = pd.DataFrame(train_features_pca)\n",
        "df_train['label'] = np.argmax(train_labels, axis=1)  # Convertir les labels one-hot en indices\n",
        "\n",
        "# Créer un DataFrame pour les données de validation\n",
        "df_val = pd.DataFrame(val_features_pca)\n",
        "df_val['label'] = np.argmax(val_labels, axis=1)\n",
        "\n",
        "# Ajouter les données de validation au DataFrame d'entraînement\n",
        "df_all = pd.concat([df_train, df_val], ignore_index=True)\n",
        "\n",
        "# Sauvegarder dans ref_data.csv\n",
        "ref_data_path = os.path.join(output_path, 'data', 'ref_data.csv')\n",
        "os.makedirs(os.path.dirname(ref_data_path), exist_ok=True)\n",
        "df_all.to_csv(ref_data_path, index=False)\n",
        "\n",
        "print(f\"Données transformées sauvegardées dans {ref_data_path}\")"
      ],
      "metadata": {
        "colab": {
          "base_uri": "https://localhost:8080/"
        },
        "id": "IUgIoCZmtrUb",
        "outputId": "1620eb75-9aaf-4df1-c05f-378332c001e6"
      },
      "execution_count": null,
      "outputs": [
        {
          "output_type": "stream",
          "name": "stdout",
          "text": [
            "Données transformées sauvegardées dans /content/asl_alphabet/data/ref_data.csv\n"
          ]
        }
      ]
    },
    {
      "cell_type": "code",
      "source": [
        "# **Étape 12 : Sauvegarder les artefacts (scaler et PCA)**\n",
        "\n",
        "# Chemin du dossier artifacts\n",
        "artifacts_dir = os.path.join(output_path, 'artifacts')\n",
        "os.makedirs(artifacts_dir, exist_ok=True)\n",
        "\n",
        "# Sauvegarder le scaler\n",
        "scaler_path = os.path.join(artifacts_dir, 'scaler.pkl')\n",
        "with open(scaler_path, 'wb') as f:\n",
        "    pickle.dump(scaler, f)\n",
        "\n",
        "# Sauvegarder le modèle PCA\n",
        "pca_path = os.path.join(artifacts_dir, 'pca.pkl')\n",
        "with open(pca_path, 'wb') as f:\n",
        "    pickle.dump(pca, f)\n",
        "\n",
        "print(f\"Scaler et PCA sauvegardés dans {artifacts_dir}\")\n"
      ],
      "metadata": {
        "colab": {
          "base_uri": "https://localhost:8080/"
        },
        "id": "N_7ajhb9t0Gu",
        "outputId": "f6130389-67c3-4a7e-eab0-9da738d68861"
      },
      "execution_count": null,
      "outputs": [
        {
          "output_type": "stream",
          "name": "stdout",
          "text": [
            "Scaler et PCA sauvegardés dans /content/asl_alphabet/artifacts\n"
          ]
        }
      ]
    },
    {
      "cell_type": "code",
      "source": [
        "# **Étape 13 : Sauvegarder les caractéristiques de test**\n",
        "\n",
        "# Créer un DataFrame pour les données de test\n",
        "df_test = pd.DataFrame(test_features_pca)\n",
        "df_test['label'] = test_labels\n",
        "\n",
        "# Sauvegarder dans test_data.csv (si nécessaire)\n",
        "test_data_path = os.path.join(output_path, 'data', 'test_data.csv')\n",
        "df_test.to_csv(test_data_path, index=False)\n",
        "\n",
        "print(f\"Données de test transformées sauvegardées dans {test_data_path}\")\n"
      ],
      "metadata": {
        "colab": {
          "base_uri": "https://localhost:8080/"
        },
        "id": "96onhNPqt4_g",
        "outputId": "a6818b90-38d3-45ba-c138-43a2d0d102aa"
      },
      "execution_count": null,
      "outputs": [
        {
          "output_type": "stream",
          "name": "stdout",
          "text": [
            "Données de test transformées sauvegardées dans /content/asl_alphabet/data/test_data.csv\n"
          ]
        }
      ]
    },
    {
      "cell_type": "code",
      "source": [
        "# **Étape 14 : Visualisation des données (optionnel)**\n",
        "\n",
        "# Afficher quelques exemples de caractéristiques\n",
        "print(df_all.head())\n",
        "\n",
        "# Afficher la distribution des classes\n",
        "plt.figure(figsize=(10,6))\n",
        "df_all['label'].value_counts().plot(kind='bar')\n",
        "plt.title('Distribution des classes dans ref_data.csv')\n",
        "plt.xlabel('Classe')\n",
        "plt.ylabel('Nombre d\\'exemples')\n",
        "plt.show()"
      ],
      "metadata": {
        "colab": {
          "base_uri": "https://localhost:8080/",
          "height": 802
        },
        "id": "g7RIFtrVt8NF",
        "outputId": "78c2d060-0017-49d7-fbc3-96127269aa29"
      },
      "execution_count": null,
      "outputs": [
        {
          "output_type": "stream",
          "name": "stdout",
          "text": [
            "          0         1          2         3          4         5          6  \\\n",
            "0 -8.750017  1.270956   9.186795  7.261441  17.463654  7.819411  -3.267434   \n",
            "1  4.453056 -2.979856 -11.474133 -3.590466   5.692397 -0.345708  14.913405   \n",
            "2 -8.807736  2.209491   8.874857  4.967010  18.061541  8.130327  -3.129796   \n",
            "3 -8.944516  4.168016  10.531391  4.514879  20.573200  6.879407  -3.442568   \n",
            "4 -8.925002  1.387866   8.611262  5.837756  19.629129  7.272402  -4.118851   \n",
            "\n",
            "          7         8          9  ...        91        92        93        94  \\\n",
            "0 -6.217210  3.794773  -0.842868  ... -1.131872  3.358251  0.615465 -1.358904   \n",
            "1 -9.886652  9.249639  14.753951  ... -1.284231 -1.142638 -0.261861  1.377515   \n",
            "2 -6.319090  3.732259  -1.223869  ... -1.138117  3.453526 -0.116136 -1.217226   \n",
            "3 -6.608138  4.574527   0.154656  ... -2.245056  2.924508  0.513903 -1.017429   \n",
            "4 -5.660655  3.782082   0.226752  ... -1.965973  2.926963 -0.187243 -1.161200   \n",
            "\n",
            "         95        96        97        98        99  label  \n",
            "0  1.740680 -0.292377  1.671590  0.936224 -1.943677      0  \n",
            "1 -0.705560 -1.021766  1.624214  0.014690  2.654778      0  \n",
            "2  0.997931 -0.986462  0.951216  0.960047 -1.819236      0  \n",
            "3  0.567676 -1.811837  2.342216  1.386854 -1.369701      0  \n",
            "4  1.596850 -0.944763  1.802006  1.678389 -1.106526      0  \n",
            "\n",
            "[5 rows x 101 columns]\n"
          ]
        },
        {
          "output_type": "display_data",
          "data": {
            "text/plain": [
              "<Figure size 1000x600 with 1 Axes>"
            ],
            "image/png": "[encoded data removed]"
          },
          "metadata": {}
        }
      ]
    },
    {
      "cell_type": "code",
      "source": [
        "# **Étape 15 : Organisation des fichiers sauvegardés dans Google Drive**\n",
        "\n",
        "import shutil\n",
        "\n",
        "# Chemin de base dans Google Drive où vous souhaitez organiser les fichiers\n",
        "# Modifiez ce chemin selon vos préférences\n",
        "base_drive_dir = '/content/drive/MyDrive/projet/'\n",
        "\n",
        "# Définir les sous-dossiers\n",
        "monitoring_dir = os.path.join(base_drive_dir, 'monitoring')\n",
        "training_dir = os.path.join(base_drive_dir, 'training')\n",
        "\n",
        "# Créer les dossiers s'ils n'existent pas\n",
        "os.makedirs(monitoring_dir, exist_ok=True)\n",
        "os.makedirs(training_dir, exist_ok=True)\n",
        "\n",
        "# Définir les chemins des fichiers générés\n",
        "ref_data_src = ref_data_path  # '/content/asl_alphabet/data/ref_data.csv'\n",
        "test_data_src = test_data_path  # '/content/asl_alphabet/data/test_data.csv'\n",
        "scaler_src = scaler_path  # '/content/asl_alphabet/artifacts/scaler.pkl'\n",
        "pca_src = pca_path  # '/content/asl_alphabet/artifacts/pca.pkl'\n",
        "\n",
        "# Définir les chemins de destination\n",
        "ref_data_dst = os.path.join(monitoring_dir, 'ref_data.csv')\n",
        "test_data_dst = os.path.join(monitoring_dir, 'test_data.csv')\n",
        "scaler_dst = os.path.join(training_dir, 'scaler.pkl')\n",
        "pca_dst = os.path.join(training_dir, 'pca.pkl')\n",
        "\n",
        "# Copier les fichiers dans les dossiers de monitoring et training\n",
        "shutil.copy(ref_data_src, ref_data_dst)\n",
        "shutil.copy(test_data_src, test_data_dst)\n",
        "shutil.copy(scaler_src, scaler_dst)\n",
        "shutil.copy(pca_src, pca_dst)\n",
        "\n",
        "print(\"Fichiers sauvegardés dans les dossiers 'monitoring' et 'training' sur Google Drive.\")"
      ],
      "metadata": {
        "id": "cs0xkTaTv27A",
        "outputId": "881cd965-ebdb-4d20-9885-f61cd81503f7",
        "colab": {
          "base_uri": "https://localhost:8080/"
        }
      },
      "execution_count": null,
      "outputs": [
        {
          "output_type": "stream",
          "name": "stdout",
          "text": [
            "Fichiers sauvegardés dans les dossiers 'monitoring' et 'training' sur Google Drive.\n"
          ]
        }
      ]
    }
  ]
}